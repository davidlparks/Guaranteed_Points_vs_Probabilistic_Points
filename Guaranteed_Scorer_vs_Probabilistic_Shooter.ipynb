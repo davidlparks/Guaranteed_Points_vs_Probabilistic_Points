{
 "cells": [
  {
   "cell_type": "markdown",
   "metadata": {},
   "source": [
    "### Guaranteed Scorer vs a Probabilistic Shooter\n",
    "Prepared by David L. Parks  \n",
    "December 22, 2020"
   ]
  },
  {
   "cell_type": "markdown",
   "metadata": {},
   "source": [
    "Suppose that your favorite NBA team calls to get your opinion on their next draft pick. Assuming that you don't screen your calls and actually answer the phone, the options are:\n",
    "\n",
    "1) Player 1: a 51% field goal shooter guaranteed to take 20 shots per game  \n",
    "or  \n",
    "2) Player 2: guaranteed to score 20 points per game  \n",
    "\n",
    "If you are like most people, after a few seconds of thought you would instinctively pick Player 2. Scoring 20 guaranteed points per game is tough to beat. In fact, if Player 2 did this throughout his entire career, he would be number 70 on the points per game all-time leaderboard according to basketball-reference.com[1](https://www.basketball-reference.com/leaders/pts_per_g_career.html). However, if Player 2 squared off against Player 1, Player 1 would win more games, all else being equal. And winning, not scoring, is more important to the team - your instincts failed you.  \n",
    "\n",
    "To see how this is possible, let's look at both a statistical solution and a simulation."
   ]
  },
  {
   "cell_type": "code",
   "execution_count": 1,
   "metadata": {},
   "outputs": [],
   "source": [
    "# import modules\n",
    "import numpy as np\n",
    "import scipy.stats as ss"
   ]
  },
  {
   "cell_type": "markdown",
   "metadata": {},
   "source": [
    "We'll use the Binomial distribution for the statistical solution[2](https://en.wikipedia.org/wiki/Binomial_distribution). The binomial distribution with parameters n and p is the discrete probability distribution of the number of successes in a sequence of n independent experiments, like flipping a coin multiple times . For example, if a balanced coin was flipped 10 times, n = 10 and p = 0.5."
   ]
  },
  {
   "cell_type": "code",
   "execution_count": 2,
   "metadata": {},
   "outputs": [],
   "source": [
    "# set the number of shots taken by Player 1 (n) and the probability of success (p)\n",
    "shots = 20\n",
    "probability = 0.51"
   ]
  },
  {
   "cell_type": "markdown",
   "metadata": {},
   "source": [
    "Using the cumulative distribution function for the binomial distribution, we compute the probability that Player 1 makes at least 10 shots. Subtracting this probability from 1 gives us the probability that Player 1 beats Player 2 (i.e. - Player 1 makes 11 or more shots). Next, we compute the probability that Player 1 makes at least 9 shots. This gives us the probability that Player 1 loses to Player 2. Lastly, we compute the probability that Player 1 makes exactly 10 shots. This gives us the probability that they tie."
   ]
  },
  {
   "cell_type": "code",
   "execution_count": 3,
   "metadata": {},
   "outputs": [],
   "source": [
    "# compute the probability that Player 1 makes at least 10 shots\n",
    "p10 = np.round(ss.binom.cdf(10, shots, probability), 2)\n",
    "\n",
    "# compute the probability that Player 1 makes at least 9 shots\n",
    "p09 = np.round(ss.binom.cdf(9, shots, probability), 2)\n",
    "\n",
    "# compute the probability that Player 1 makes exactly 10 shots\n",
    "e10 = p10 - p09"
   ]
  },
  {
   "cell_type": "code",
   "execution_count": 4,
   "metadata": {},
   "outputs": [
    {
     "name": "stdout",
     "output_type": "stream",
     "text": [
      "Percent of time that Player 1 wins: 45.0%\n",
      "Percent of time that Player 2 wins: 38.0%\n",
      "Percent of time that they tie: 17.0%\n"
     ]
    }
   ],
   "source": [
    "print(\"Percent of time that Player 1 wins: {}%\".format(np.round((1 - p10) * 100, 2)))\n",
    "print(\"Percent of time that Player 2 wins: {}%\".format(np.round(p09 * 100, 2)))\n",
    "print(\"Percent of time that they tie: {}%\".format(np.round(e10 * 100, 2)))"
   ]
  },
  {
   "cell_type": "markdown",
   "metadata": {},
   "source": [
    "If they played an infinite number of games, Player 1 would win about 45% of the time, lose 38% of the time, and tie 17% of the time. If this still doesn't seem possible, let's conduct a simulation to confirm the previous results."
   ]
  },
  {
   "cell_type": "code",
   "execution_count": 5,
   "metadata": {},
   "outputs": [],
   "source": [
    "# define a function that computes the number of wins, losses,\n",
    "# and ties for Player 1 and Player 2\n",
    "def simulation(games, shots, p1_shot_probability, p2_points):\n",
    "    # instantiate a random number generator and set the seed\n",
    "    # for reproducibility\n",
    "    rng = np.random.default_rng(38)\n",
    "    \n",
    "    # create zero arrays to capture the results\n",
    "    p1_wins = np.zeros(games)\n",
    "    p2_wins = np.zeros(games)\n",
    "    ties = np.zeros(games)\n",
    "    \n",
    "    # iterate through the number of games\n",
    "    for game in range(games):\n",
    "        # set Player 1's initial points\n",
    "        p1_points = 0\n",
    "        \n",
    "        # simulate Player 1 shooting\n",
    "        for i in range(shots):\n",
    "            if rng.random() < p1_shot_probability:\n",
    "                p1_points += 2\n",
    "        \n",
    "        # determine who won\n",
    "        if p1_points > p2_points:\n",
    "            p1_wins[game] = 1\n",
    "        elif p1_points == p2_points:\n",
    "            ties[game] = 1\n",
    "        elif p1_points < p2_points:\n",
    "            p2_wins[game] = 1\n",
    "            \n",
    "    totals = np.array((np.sum(p1_wins), np.sum(p2_wins), np.sum(ties)))\n",
    "    percentages = (totals / games) * 100\n",
    "    return np.round(percentages, 2)"
   ]
  },
  {
   "cell_type": "markdown",
   "metadata": {},
   "source": [
    "Simulate playing 100 games."
   ]
  },
  {
   "cell_type": "code",
   "execution_count": 6,
   "metadata": {},
   "outputs": [
    {
     "name": "stdout",
     "output_type": "stream",
     "text": [
      "Player 1 won 41.0% of the games.\n",
      "Player 2 won 40.0% of the games.\n",
      "They tied 19.0% of the games.\n"
     ]
    }
   ],
   "source": [
    "# set the parameters\n",
    "games = 100\n",
    "shots = 20\n",
    "p1_shot_prob = 0.51\n",
    "p2_points = 20\n",
    "\n",
    "# run the simulation\n",
    "results = simulation(games, shots, p1_shot_prob, p2_points)\n",
    "\n",
    "# view the outcomes\n",
    "print(\"Player 1 won {}% of the games.\".format(results[0]))\n",
    "print(\"Player 2 won {}% of the games.\".format(results[1]))\n",
    "print(\"They tied {}% of the games.\".format(results[2]))"
   ]
  },
  {
   "cell_type": "markdown",
   "metadata": {},
   "source": [
    "We see from the results that Player 1 slighly edges out Player 2 after 100 games. But as we increase the number of games, we find that the percentages converge toward the percentages we found using the statistical solution."
   ]
  },
  {
   "cell_type": "markdown",
   "metadata": {},
   "source": [
    "Simulate playing 10,000 games."
   ]
  },
  {
   "cell_type": "code",
   "execution_count": 7,
   "metadata": {},
   "outputs": [
    {
     "name": "stdout",
     "output_type": "stream",
     "text": [
      "Player 1 won 44.23% of the games.\n",
      "Player 2 won 38.06% of the games.\n",
      "They tied 17.71% of the games.\n"
     ]
    }
   ],
   "source": [
    "# set the parameters\n",
    "games = 10000\n",
    "shots = 20\n",
    "p1_shot_prob = 0.51\n",
    "p2_points = 20\n",
    "\n",
    "# run the simulation\n",
    "results = simulation(games, shots, p1_shot_prob, p2_points)\n",
    "\n",
    "# view the outcomes\n",
    "print(\"Player 1 won {}% of the games.\".format(results[0]))\n",
    "print(\"Player 2 won {}% of the games.\".format(results[1]))\n",
    "print(\"They tied {}% of the games.\".format(results[2]))"
   ]
  },
  {
   "cell_type": "markdown",
   "metadata": {},
   "source": [
    "Simulate playing 100,000 games."
   ]
  },
  {
   "cell_type": "code",
   "execution_count": 8,
   "metadata": {},
   "outputs": [
    {
     "name": "stdout",
     "output_type": "stream",
     "text": [
      "Player 1 won 45.04% of the games.\n",
      "Player 2 won 37.46% of the games.\n",
      "They tied 17.5% of the games.\n"
     ]
    }
   ],
   "source": [
    "# set the parameters\n",
    "games = 100000\n",
    "shots = 20\n",
    "p1_shot_prob = 0.51\n",
    "p2_points = 20\n",
    "\n",
    "# run the simulation\n",
    "results = simulation(games, shots, p1_shot_prob, p2_points)\n",
    "\n",
    "# view the outcomes\n",
    "print(\"Player 1 won {}% of the games.\".format(results[0]))\n",
    "print(\"Player 2 won {}% of the games.\".format(results[1]))\n",
    "print(\"They tied {}% of the games.\".format(results[2]))"
   ]
  },
  {
   "cell_type": "markdown",
   "metadata": {},
   "source": [
    "Although not an exact match, these percentages are pretty close to the statistical solution.  \n",
    "\n",
    "From the results above, we see that if winning is the primary goal, Player 1 is the better choice. This notebook illustrates the pitfalls associated with quick, intuitive decision-making and highlights the importance of understanding the customer's primary goal."
   ]
  }
 ],
 "metadata": {
  "kernelspec": {
   "display_name": "Python 3",
   "language": "python",
   "name": "python3"
  },
  "language_info": {
   "codemirror_mode": {
    "name": "ipython",
    "version": 3
   },
   "file_extension": ".py",
   "mimetype": "text/x-python",
   "name": "python",
   "nbconvert_exporter": "python",
   "pygments_lexer": "ipython3",
   "version": "3.8.5"
  }
 },
 "nbformat": 4,
 "nbformat_minor": 4
}
